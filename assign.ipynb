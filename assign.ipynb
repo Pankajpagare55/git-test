{
 "cells": [
  {
   "cell_type": "markdown",
   "id": "6d7a679f",
   "metadata": {},
   "source": [
    "#  Factorial  Of  A  Number"
   ]
  },
  {
   "cell_type": "code",
   "execution_count": null,
   "id": "7a06de9d",
   "metadata": {},
   "outputs": [],
   "source": [
    "num=int(input(\"Enter The Number To Factorial\"))\n",
    "\n",
    "for i in range(1,num):\n",
    "    num=num*i\n",
    "print(num)"
   ]
  },
  {
   "cell_type": "markdown",
   "id": "2a217710",
   "metadata": {},
   "source": [
    "#  Number Is Prime Or Composite."
   ]
  },
  {
   "cell_type": "code",
   "execution_count": null,
   "id": "d6508493",
   "metadata": {},
   "outputs": [],
   "source": [
    "num=int(input(\"Enter The Number To Check The Number Is Prime Or Composite \"))\n",
    "flag=0\n",
    "for i in range(2,num):\n",
    "    if (num % i)==0:\n",
    "        flag=1\n",
    "if flag==1:\n",
    "    print(\"It Is A Composite Number\")\n",
    "else:\n",
    "    print(\"It Is A Prime Number\")\n",
    "      "
   ]
  },
  {
   "cell_type": "markdown",
   "id": "5f568c7f",
   "metadata": {},
   "source": [
    "# Given String Is Palindrome Or Not"
   ]
  },
  {
   "cell_type": "code",
   "execution_count": null,
   "id": "82419c6c",
   "metadata": {},
   "outputs": [],
   "source": [
    "str1 = input(\"Enter The  String To Check IS It Palindrom Or Not\")\n",
    "\n",
    "str2 = str1[::-1]\n",
    "\n",
    "if str1==str2:\n",
    "    print(\"Given String Is Palindrome\")\n",
    "else:\n",
    "    print(\"Given String Is Not Palindrome\")\n",
    "    "
   ]
  },
  {
   "cell_type": "markdown",
   "id": "24217e7c",
   "metadata": {},
   "source": [
    "# Get The Third Side Of Right-Angled Triangle From Two Given Sides"
   ]
  },
  {
   "cell_type": "code",
   "execution_count": 3,
   "id": "ae70965b",
   "metadata": {},
   "outputs": [
    {
     "name": "stdout",
     "output_type": "stream",
     "text": [
      "Enter the First Side Of Triangel  9\n",
      "Enter the Second Side Of Triangel  16\n",
      "Thrid Side Of Angle Triangle Is  =   18.35755975068582\n"
     ]
    }
   ],
   "source": [
    "from math import sqrt \n",
    "\n",
    "a=int(input(\"Enter the First Side Of Triangel  \"))\n",
    "\n",
    "b=int(input(\"Enter the Second Side Of Triangel  \"))\n",
    "\n",
    "#find The 3rd Side of the Angle \n",
    "\n",
    "#formula For Finding A Right Angle Triangle (c**2=a**2+b**2)\n",
    "\n",
    "\n",
    "\n",
    "c= a**2+b**2\n",
    "\n",
    "\n",
    "#result=c**0.5\n",
    "\n",
    "\n",
    "print(\"Thrid Side Of Angle Triangle Is  =  \",sqrt(c))\n"
   ]
  },
  {
   "cell_type": "markdown",
   "id": "b0f13db5",
   "metadata": {},
   "source": [
    "# Print The Frequency Of Each Of The Characters Present In A Given String"
   ]
  },
  {
   "cell_type": "code",
   "execution_count": 18,
   "id": "e0efbaf0",
   "metadata": {},
   "outputs": [
    {
     "name": "stdout",
     "output_type": "stream",
     "text": [
      "Enter The String To find out The Frequency Of Characters  =  pankaj\n",
      "a Present in Given string is  2\n",
      "k Present in Given string is  1\n",
      "j Present in Given string is  1\n",
      "n Present in Given string is  1\n",
      "p Present in Given string is  1\n"
     ]
    }
   ],
   "source": [
    "str1=input(\"Enter The String To find out The Frequency Of Characters  =  \")\n",
    "\n",
    "list1=list(str1)\n",
    "list2=set(list1)\n",
    "for i in list2:\n",
    "    print(i,\"Present in Given string is \",list1.count(i))\n"
   ]
  },
  {
   "cell_type": "code",
   "execution_count": null,
   "id": "f386a462",
   "metadata": {},
   "outputs": [],
   "source": []
  }
 ],
 "metadata": {
  "kernelspec": {
   "display_name": "Python 3",
   "language": "python",
   "name": "python3"
  },
  "language_info": {
   "codemirror_mode": {
    "name": "ipython",
    "version": 3
   },
   "file_extension": ".py",
   "mimetype": "text/x-python",
   "name": "python",
   "nbconvert_exporter": "python",
   "pygments_lexer": "ipython3",
   "version": "3.8.8"
  }
 },
 "nbformat": 4,
 "nbformat_minor": 5
}
