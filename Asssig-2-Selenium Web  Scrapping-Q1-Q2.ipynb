{
 "cells": [
  {
   "cell_type": "markdown",
   "id": "51038c6e",
   "metadata": {},
   "source": [
    "# Q1: Write a python program to scrape data for “Data Analyst” Job position in “Bangalore” location. You have to scrape the job-title, job-location, company_name, experience_required. You have to scrape first 10 jobs data. "
   ]
  },
  {
   "cell_type": "code",
   "execution_count": 1,
   "id": "9cfda137",
   "metadata": {},
   "outputs": [],
   "source": [
    "import selenium\n",
    "import pandas as pd\n",
    "from selenium import webdriver"
   ]
  },
  {
   "cell_type": "code",
   "execution_count": 2,
   "id": "a2462bc6",
   "metadata": {},
   "outputs": [
    {
     "name": "stderr",
     "output_type": "stream",
     "text": [
      "<ipython-input-2-79fac5a6ab2d>:1: DeprecationWarning: executable_path has been deprecated, please pass in a Service object\n",
      "  driver=webdriver.Edge(executable_path=\"C:\\\\Users\\\\AT SYSTEM\\Desktop\\\\edgedriver_win32 (3)\\\\msedgedriver.exe\")\n"
     ]
    }
   ],
   "source": [
    "driver=webdriver.Edge(executable_path=\"C:\\\\Users\\\\AT SYSTEM\\Desktop\\\\edgedriver_win32 (3)\\\\msedgedriver.exe\")"
   ]
  },
  {
   "cell_type": "code",
   "execution_count": 3,
   "id": "b2021bb6",
   "metadata": {},
   "outputs": [],
   "source": [
    "driver.get(\"https://www.naukri.com\")"
   ]
  },
  {
   "cell_type": "code",
   "execution_count": 4,
   "id": "d6433305",
   "metadata": {},
   "outputs": [
    {
     "name": "stderr",
     "output_type": "stream",
     "text": [
      "<ipython-input-4-80d8b713dd61>:1: DeprecationWarning: find_element_by_* commands are deprecated. Please use find_element() instead\n",
      "  srch_job=driver.find_element_by_id('qsb-keyword-sugg')\n",
      "<ipython-input-4-80d8b713dd61>:3: DeprecationWarning: find_element_by_* commands are deprecated. Please use find_element() instead\n",
      "  srch_loc=driver.find_element_by_xpath(\"//input[@id='qsb-location-sugg']\")\n"
     ]
    }
   ],
   "source": [
    "srch_job=driver.find_element_by_id('qsb-keyword-sugg')\n",
    "srch_job.send_keys('Data Analyst')\n",
    "srch_loc=driver.find_element_by_xpath(\"//input[@id='qsb-location-sugg']\")\n",
    "srch_loc.send_keys('Bangalore')"
   ]
  },
  {
   "cell_type": "code",
   "execution_count": 5,
   "id": "53624051",
   "metadata": {},
   "outputs": [
    {
     "name": "stderr",
     "output_type": "stream",
     "text": [
      "<ipython-input-5-955fd360a976>:1: DeprecationWarning: find_element_by_* commands are deprecated. Please use find_element() instead\n",
      "  srch_btn=driver.find_element_by_xpath(\"//div[@class='search-btn']/button\")\n"
     ]
    }
   ],
   "source": [
    "srch_btn=driver.find_element_by_xpath(\"//div[@class='search-btn']/button\")\n",
    "srch_btn.click()"
   ]
  },
  {
   "cell_type": "code",
   "execution_count": 6,
   "id": "7774abd5",
   "metadata": {},
   "outputs": [],
   "source": [
    "title_of_the_job=[]\n",
    "Name_of_the_company=[]\n",
    "location=[]\n",
    "experience_requride=[]"
   ]
  },
  {
   "cell_type": "code",
   "execution_count": 7,
   "id": "7bcf545f",
   "metadata": {},
   "outputs": [
    {
     "name": "stderr",
     "output_type": "stream",
     "text": [
      "<ipython-input-7-02635df1f980>:1: DeprecationWarning: find_elements_by_* commands are deprecated. Please use find_elements() instead\n",
      "  t_name=driver.find_elements_by_xpath(\"//a[@class='title fw500 ellipsis']\")\n"
     ]
    }
   ],
   "source": [
    "t_name=driver.find_elements_by_xpath(\"//a[@class='title fw500 ellipsis']\")"
   ]
  },
  {
   "cell_type": "code",
   "execution_count": 8,
   "id": "0446861a",
   "metadata": {},
   "outputs": [
    {
     "data": {
      "text/plain": [
       "[<selenium.webdriver.remote.webelement.WebElement (session=\"0047931d0a8c59a74d08556e52e2c2f7\", element=\"e9e8b052-37cf-4497-8f04-f3100588e102\")>,\n",
       " <selenium.webdriver.remote.webelement.WebElement (session=\"0047931d0a8c59a74d08556e52e2c2f7\", element=\"bde9b1ac-ec57-42c2-bb0b-b12dd109de81\")>,\n",
       " <selenium.webdriver.remote.webelement.WebElement (session=\"0047931d0a8c59a74d08556e52e2c2f7\", element=\"94d4ea77-039e-44a4-9c99-eeb4238b50c1\")>,\n",
       " <selenium.webdriver.remote.webelement.WebElement (session=\"0047931d0a8c59a74d08556e52e2c2f7\", element=\"28a990d5-2ed8-4e3f-b12a-aab3e6939c9e\")>,\n",
       " <selenium.webdriver.remote.webelement.WebElement (session=\"0047931d0a8c59a74d08556e52e2c2f7\", element=\"7cfec88b-0536-45d9-b168-84f46f9500c9\")>,\n",
       " <selenium.webdriver.remote.webelement.WebElement (session=\"0047931d0a8c59a74d08556e52e2c2f7\", element=\"fbd6dc98-f393-48fb-8bcd-a49bac8acd4f\")>,\n",
       " <selenium.webdriver.remote.webelement.WebElement (session=\"0047931d0a8c59a74d08556e52e2c2f7\", element=\"1dfa9af8-47aa-4ed2-b793-f2e5e8330588\")>,\n",
       " <selenium.webdriver.remote.webelement.WebElement (session=\"0047931d0a8c59a74d08556e52e2c2f7\", element=\"7cb42cd6-bf9f-478c-a2d6-39bd2f63361d\")>,\n",
       " <selenium.webdriver.remote.webelement.WebElement (session=\"0047931d0a8c59a74d08556e52e2c2f7\", element=\"09766b5f-d310-4815-8ae3-f758fae071e6\")>,\n",
       " <selenium.webdriver.remote.webelement.WebElement (session=\"0047931d0a8c59a74d08556e52e2c2f7\", element=\"b4ea3ef7-eca2-40e0-b607-e9b28d1eb07a\")>,\n",
       " <selenium.webdriver.remote.webelement.WebElement (session=\"0047931d0a8c59a74d08556e52e2c2f7\", element=\"dd89fda0-d7f3-4726-a556-4c02af2f9306\")>,\n",
       " <selenium.webdriver.remote.webelement.WebElement (session=\"0047931d0a8c59a74d08556e52e2c2f7\", element=\"eab262f8-8be2-4e04-8471-618e71fe7e43\")>,\n",
       " <selenium.webdriver.remote.webelement.WebElement (session=\"0047931d0a8c59a74d08556e52e2c2f7\", element=\"39405afd-5c53-4c5b-ada7-74a05c3d9387\")>,\n",
       " <selenium.webdriver.remote.webelement.WebElement (session=\"0047931d0a8c59a74d08556e52e2c2f7\", element=\"c5cfa98b-8bd9-4151-8232-f0fe06cb7da0\")>,\n",
       " <selenium.webdriver.remote.webelement.WebElement (session=\"0047931d0a8c59a74d08556e52e2c2f7\", element=\"3376f273-2572-4c8d-bd52-749f4214adc8\")>,\n",
       " <selenium.webdriver.remote.webelement.WebElement (session=\"0047931d0a8c59a74d08556e52e2c2f7\", element=\"96492e53-366a-420c-8593-670a4d39b2e3\")>,\n",
       " <selenium.webdriver.remote.webelement.WebElement (session=\"0047931d0a8c59a74d08556e52e2c2f7\", element=\"64ceaffb-d363-456e-9a30-962de773f5ee\")>,\n",
       " <selenium.webdriver.remote.webelement.WebElement (session=\"0047931d0a8c59a74d08556e52e2c2f7\", element=\"a23bb9b3-2f9b-4f65-b719-dca7030c47bf\")>,\n",
       " <selenium.webdriver.remote.webelement.WebElement (session=\"0047931d0a8c59a74d08556e52e2c2f7\", element=\"1bd81642-69e4-453a-b753-360862c192f7\")>,\n",
       " <selenium.webdriver.remote.webelement.WebElement (session=\"0047931d0a8c59a74d08556e52e2c2f7\", element=\"c946ddb3-6a60-4578-b98a-02f5f6c5a42d\")>]"
      ]
     },
     "execution_count": 8,
     "metadata": {},
     "output_type": "execute_result"
    }
   ],
   "source": [
    "t_name"
   ]
  },
  {
   "cell_type": "code",
   "execution_count": 9,
   "id": "ebc02953",
   "metadata": {},
   "outputs": [
    {
     "data": {
      "text/plain": [
       "['Business Analyst/ Data Analyst- Capital Market & SQL (Mandatory)',\n",
       " 'Assistant/deputy Manager - Geo-spatial Data Analyst',\n",
       " 'Senior Data Analyst',\n",
       " 'SENIOR ASSOCIATE ENGINEER - SCM - DATA ANALYST',\n",
       " 'Data Analyst',\n",
       " 'Data Analyst / Engineer',\n",
       " 'Senior Data Analyst',\n",
       " 'Senior Data Analyst for HANA Platform',\n",
       " 'Data Analyst',\n",
       " 'Supervisor Role, Data Analyst, six sigma, Analytical skills, Database',\n",
       " 'Data Analyst',\n",
       " 'DG - Business Analyst - Data Visualization & Analytics',\n",
       " 'Hiring Business Data Analyst +ETL- Tech Mahindra, Bangalore',\n",
       " 'Business Analyst / Data Analyst',\n",
       " 'Senior Data Analyst',\n",
       " 'Senior Data Analyst',\n",
       " 'Job Opportunity For Clinical Data Analyst - CDM',\n",
       " 'Data Analyst',\n",
       " 'Data Analyst',\n",
       " 'Financial Data Analyst']"
      ]
     },
     "execution_count": 9,
     "metadata": {},
     "output_type": "execute_result"
    }
   ],
   "source": [
    "for ele in t_name:\n",
    "    title=ele.text\n",
    "    title_of_the_job.append(title)\n",
    "title_of_the_job"
   ]
  },
  {
   "cell_type": "code",
   "execution_count": 10,
   "id": "be0c99a1",
   "metadata": {},
   "outputs": [
    {
     "name": "stderr",
     "output_type": "stream",
     "text": [
      "<ipython-input-10-1b96969faff2>:1: DeprecationWarning: find_elements_by_* commands are deprecated. Please use find_elements() instead\n",
      "  c_name=driver.find_elements_by_xpath(\"//a[@class='subTitle ellipsis fleft']\")\n"
     ]
    }
   ],
   "source": [
    "c_name=driver.find_elements_by_xpath(\"//a[@class='subTitle ellipsis fleft']\")"
   ]
  },
  {
   "cell_type": "code",
   "execution_count": 11,
   "id": "9f0add82",
   "metadata": {},
   "outputs": [
    {
     "data": {
      "text/plain": [
       "[<selenium.webdriver.remote.webelement.WebElement (session=\"0047931d0a8c59a74d08556e52e2c2f7\", element=\"3a121143-26de-4371-9fea-4072bf6b33a2\")>,\n",
       " <selenium.webdriver.remote.webelement.WebElement (session=\"0047931d0a8c59a74d08556e52e2c2f7\", element=\"5c6656e8-920b-458a-8bea-6b6a0b2576d6\")>,\n",
       " <selenium.webdriver.remote.webelement.WebElement (session=\"0047931d0a8c59a74d08556e52e2c2f7\", element=\"c7125c3b-a9e0-4e07-ac82-5f6d4f12b8a4\")>,\n",
       " <selenium.webdriver.remote.webelement.WebElement (session=\"0047931d0a8c59a74d08556e52e2c2f7\", element=\"294f0f39-4a5d-46bd-997c-2845daa437c2\")>,\n",
       " <selenium.webdriver.remote.webelement.WebElement (session=\"0047931d0a8c59a74d08556e52e2c2f7\", element=\"b81e01b6-cfe6-40df-9e76-5e8d8c2bc0a1\")>,\n",
       " <selenium.webdriver.remote.webelement.WebElement (session=\"0047931d0a8c59a74d08556e52e2c2f7\", element=\"fefded20-2ea2-46bb-bc79-68c99e3468f2\")>,\n",
       " <selenium.webdriver.remote.webelement.WebElement (session=\"0047931d0a8c59a74d08556e52e2c2f7\", element=\"25b6d69c-9bd2-4b3a-92d3-fab9ed890551\")>,\n",
       " <selenium.webdriver.remote.webelement.WebElement (session=\"0047931d0a8c59a74d08556e52e2c2f7\", element=\"6e12d4b6-fd34-46e3-9401-d40b583d25bf\")>,\n",
       " <selenium.webdriver.remote.webelement.WebElement (session=\"0047931d0a8c59a74d08556e52e2c2f7\", element=\"70531cf3-3165-479c-92d9-4bf95a367026\")>,\n",
       " <selenium.webdriver.remote.webelement.WebElement (session=\"0047931d0a8c59a74d08556e52e2c2f7\", element=\"e1465052-cbc5-425c-85f1-65b8d9dc0725\")>,\n",
       " <selenium.webdriver.remote.webelement.WebElement (session=\"0047931d0a8c59a74d08556e52e2c2f7\", element=\"8f4fea43-9925-4d81-8c12-dce7064c01bb\")>,\n",
       " <selenium.webdriver.remote.webelement.WebElement (session=\"0047931d0a8c59a74d08556e52e2c2f7\", element=\"6adc2201-0242-4399-bef7-e35537c0b19c\")>,\n",
       " <selenium.webdriver.remote.webelement.WebElement (session=\"0047931d0a8c59a74d08556e52e2c2f7\", element=\"bea866fd-11e5-40ef-ac13-1f5a3441dabf\")>,\n",
       " <selenium.webdriver.remote.webelement.WebElement (session=\"0047931d0a8c59a74d08556e52e2c2f7\", element=\"0c600ad4-e53d-4119-8c3a-0b9de2cf6b94\")>,\n",
       " <selenium.webdriver.remote.webelement.WebElement (session=\"0047931d0a8c59a74d08556e52e2c2f7\", element=\"4b4f1444-d59d-40d4-bf58-cd8a947a4fd3\")>,\n",
       " <selenium.webdriver.remote.webelement.WebElement (session=\"0047931d0a8c59a74d08556e52e2c2f7\", element=\"b5fd5b2c-5e61-484f-86a0-bca8d72231f9\")>,\n",
       " <selenium.webdriver.remote.webelement.WebElement (session=\"0047931d0a8c59a74d08556e52e2c2f7\", element=\"ba667ee3-c774-4127-94ac-4ac138dede44\")>,\n",
       " <selenium.webdriver.remote.webelement.WebElement (session=\"0047931d0a8c59a74d08556e52e2c2f7\", element=\"79dbb85c-8fb8-4706-a4b6-dca335d86027\")>,\n",
       " <selenium.webdriver.remote.webelement.WebElement (session=\"0047931d0a8c59a74d08556e52e2c2f7\", element=\"62ae0fcc-53b0-4e0c-8693-2cd59eaba16a\")>,\n",
       " <selenium.webdriver.remote.webelement.WebElement (session=\"0047931d0a8c59a74d08556e52e2c2f7\", element=\"e9516c6f-afcf-4cc0-8800-10c0e5270d24\")>]"
      ]
     },
     "execution_count": 11,
     "metadata": {},
     "output_type": "execute_result"
    }
   ],
   "source": [
    "c_name"
   ]
  },
  {
   "cell_type": "code",
   "execution_count": 12,
   "id": "f9d6d11f",
   "metadata": {},
   "outputs": [
    {
     "data": {
      "text/plain": [
       "['Genpact',\n",
       " 'Maruti Suzuki India',\n",
       " 'Rapido',\n",
       " 'Collins Aerospace',\n",
       " 'GlaxoSmithKline Pharmaceuticals Limited',\n",
       " 'Animaker India Private Limited',\n",
       " 'Flipkart',\n",
       " 'Intel',\n",
       " 'NetraDyne Technology India Private Limited',\n",
       " 'Concentrix Daksh Services',\n",
       " 'Slice',\n",
       " 'ExecBoardinAsia',\n",
       " 'Tech Mahindra',\n",
       " 'GetSimpl',\n",
       " 'SYREN TECHNOLOGIES PRIVATE LIMITED',\n",
       " 'Flipkart',\n",
       " 'Paradigm IT',\n",
       " 'Ola Cabs',\n",
       " 'ExecBoardinAsia',\n",
       " 'UnitedLex']"
      ]
     },
     "execution_count": 12,
     "metadata": {},
     "output_type": "execute_result"
    }
   ],
   "source": [
    "for ele1 in c_name:\n",
    "    company=ele1.text\n",
    "    Name_of_the_company.append(company)\n",
    "Name_of_the_company"
   ]
  },
  {
   "cell_type": "code",
   "execution_count": 13,
   "id": "bc049169",
   "metadata": {},
   "outputs": [
    {
     "name": "stderr",
     "output_type": "stream",
     "text": [
      "<ipython-input-13-0c0e9dfc9d75>:1: DeprecationWarning: find_elements_by_* commands are deprecated. Please use find_elements() instead\n",
      "  loc=driver.find_elements_by_xpath(\"//li[@class='fleft grey-text br2 placeHolderLi location']/span[1]\")\n"
     ]
    }
   ],
   "source": [
    "loc=driver.find_elements_by_xpath(\"//li[@class='fleft grey-text br2 placeHolderLi location']/span[1]\")"
   ]
  },
  {
   "cell_type": "code",
   "execution_count": 14,
   "id": "c06a0170",
   "metadata": {},
   "outputs": [
    {
     "data": {
      "text/plain": [
       "[<selenium.webdriver.remote.webelement.WebElement (session=\"0047931d0a8c59a74d08556e52e2c2f7\", element=\"c26e21a2-6d4a-4590-b018-2244f0de03e2\")>,\n",
       " <selenium.webdriver.remote.webelement.WebElement (session=\"0047931d0a8c59a74d08556e52e2c2f7\", element=\"545476a4-46da-48f9-8242-c60acb73b084\")>,\n",
       " <selenium.webdriver.remote.webelement.WebElement (session=\"0047931d0a8c59a74d08556e52e2c2f7\", element=\"0f32d216-69aa-4dba-aaf8-0b72b1f03bbc\")>,\n",
       " <selenium.webdriver.remote.webelement.WebElement (session=\"0047931d0a8c59a74d08556e52e2c2f7\", element=\"32655742-b9e0-4136-b0ea-5a06b90a3878\")>,\n",
       " <selenium.webdriver.remote.webelement.WebElement (session=\"0047931d0a8c59a74d08556e52e2c2f7\", element=\"e7727c42-e219-4400-92db-be5331dee965\")>,\n",
       " <selenium.webdriver.remote.webelement.WebElement (session=\"0047931d0a8c59a74d08556e52e2c2f7\", element=\"3747bfe5-12e2-4910-a597-c5d8e831219e\")>,\n",
       " <selenium.webdriver.remote.webelement.WebElement (session=\"0047931d0a8c59a74d08556e52e2c2f7\", element=\"5ff6b1c0-1199-42a0-9bde-93b1d193e9ec\")>,\n",
       " <selenium.webdriver.remote.webelement.WebElement (session=\"0047931d0a8c59a74d08556e52e2c2f7\", element=\"f66743a9-943b-4dba-8edd-ac2be2fec504\")>,\n",
       " <selenium.webdriver.remote.webelement.WebElement (session=\"0047931d0a8c59a74d08556e52e2c2f7\", element=\"3a9ba3cd-a82e-4e41-ab52-64d9ce131892\")>,\n",
       " <selenium.webdriver.remote.webelement.WebElement (session=\"0047931d0a8c59a74d08556e52e2c2f7\", element=\"9e81794c-2f9a-4caa-a29f-dda79cac5860\")>,\n",
       " <selenium.webdriver.remote.webelement.WebElement (session=\"0047931d0a8c59a74d08556e52e2c2f7\", element=\"eb774e6e-f5d8-4001-b3d3-4a63d3bf2bff\")>,\n",
       " <selenium.webdriver.remote.webelement.WebElement (session=\"0047931d0a8c59a74d08556e52e2c2f7\", element=\"fe1113ff-4005-45a0-9dca-973797c234d8\")>,\n",
       " <selenium.webdriver.remote.webelement.WebElement (session=\"0047931d0a8c59a74d08556e52e2c2f7\", element=\"d347ee7d-d6cc-452a-81ef-b8f11d52d05a\")>,\n",
       " <selenium.webdriver.remote.webelement.WebElement (session=\"0047931d0a8c59a74d08556e52e2c2f7\", element=\"bde1b723-1ae4-4aee-b53b-05bb48be2338\")>,\n",
       " <selenium.webdriver.remote.webelement.WebElement (session=\"0047931d0a8c59a74d08556e52e2c2f7\", element=\"d4e889ea-3b61-4faa-9bfd-398789787bf3\")>,\n",
       " <selenium.webdriver.remote.webelement.WebElement (session=\"0047931d0a8c59a74d08556e52e2c2f7\", element=\"86d3b303-6e18-4977-84f7-6c210c93212b\")>,\n",
       " <selenium.webdriver.remote.webelement.WebElement (session=\"0047931d0a8c59a74d08556e52e2c2f7\", element=\"c6f2c25f-c809-41f3-8418-c14046ffd9f6\")>,\n",
       " <selenium.webdriver.remote.webelement.WebElement (session=\"0047931d0a8c59a74d08556e52e2c2f7\", element=\"ebaa7900-2e4d-43e5-9747-d0ff1e5e8a0f\")>,\n",
       " <selenium.webdriver.remote.webelement.WebElement (session=\"0047931d0a8c59a74d08556e52e2c2f7\", element=\"19c68b05-95c1-4975-86ad-fac14b8e9872\")>,\n",
       " <selenium.webdriver.remote.webelement.WebElement (session=\"0047931d0a8c59a74d08556e52e2c2f7\", element=\"7e7c72fe-5d86-466c-a633-233b9be854a3\")>]"
      ]
     },
     "execution_count": 14,
     "metadata": {},
     "output_type": "execute_result"
    }
   ],
   "source": [
    "loc"
   ]
  },
  {
   "cell_type": "code",
   "execution_count": 15,
   "id": "66fafb8e",
   "metadata": {},
   "outputs": [
    {
     "data": {
      "text/plain": [
       "['Pune, Bangalore/Bengaluru',\n",
       " 'Gurgaon/Gurugram, bangalore',\n",
       " 'Bangalore/Bengaluru',\n",
       " 'Bangalore/Bengaluru',\n",
       " 'Bangalore/Bengaluru',\n",
       " 'Chennai, Bangalore/Bengaluru',\n",
       " 'Bangalore/Bengaluru',\n",
       " 'Bangalore/Bengaluru',\n",
       " 'Bangalore/Bengaluru',\n",
       " 'Bangalore/Bengaluru',\n",
       " 'Bangalore/Bengaluru',\n",
       " 'Bangalore/Bengaluru',\n",
       " 'Bangalore/Bengaluru',\n",
       " 'Bangalore/Bengaluru',\n",
       " 'Kolkata, Hyderabad/Secunderabad, Pune, Ahmedabad, Chennai, Bangalore/Bengaluru, Delhi / NCR, Mumbai (All Areas)',\n",
       " 'Bengaluru/Bangalore',\n",
       " 'Kolkata, Hyderabad/Secunderabad, Pune, Chennai, Bangalore/Bengaluru, Delhi / NCR, Mumbai (All Areas)',\n",
       " 'Bangalore/Bengaluru',\n",
       " 'Bangalore/Bengaluru',\n",
       " 'Hyderabad/Secunderabad, Chennai, Bangalore/Bengaluru']"
      ]
     },
     "execution_count": 15,
     "metadata": {},
     "output_type": "execute_result"
    }
   ],
   "source": [
    "for ele2 in loc:\n",
    "    loc1=ele2.text\n",
    "    location.append(loc1)\n",
    "location"
   ]
  },
  {
   "cell_type": "code",
   "execution_count": 16,
   "id": "be1eee80",
   "metadata": {},
   "outputs": [
    {
     "name": "stderr",
     "output_type": "stream",
     "text": [
      "<ipython-input-16-7ad18727cf9f>:1: DeprecationWarning: find_elements_by_* commands are deprecated. Please use find_elements() instead\n",
      "  exp=driver.find_elements_by_xpath(\"//li[@class='fleft grey-text br2 placeHolderLi experience']/span[1]\")\n"
     ]
    }
   ],
   "source": [
    "exp=driver.find_elements_by_xpath(\"//li[@class='fleft grey-text br2 placeHolderLi experience']/span[1]\")"
   ]
  },
  {
   "cell_type": "code",
   "execution_count": 17,
   "id": "8a653e68",
   "metadata": {},
   "outputs": [
    {
     "data": {
      "text/plain": [
       "[<selenium.webdriver.remote.webelement.WebElement (session=\"0047931d0a8c59a74d08556e52e2c2f7\", element=\"379e716d-d1fc-4865-8dc7-9a23a86aa399\")>,\n",
       " <selenium.webdriver.remote.webelement.WebElement (session=\"0047931d0a8c59a74d08556e52e2c2f7\", element=\"d8576430-a7b0-4563-8e19-81aca3e7d7cb\")>,\n",
       " <selenium.webdriver.remote.webelement.WebElement (session=\"0047931d0a8c59a74d08556e52e2c2f7\", element=\"bf4b08da-660c-40e9-8a57-a8f6d2199f6a\")>,\n",
       " <selenium.webdriver.remote.webelement.WebElement (session=\"0047931d0a8c59a74d08556e52e2c2f7\", element=\"27b5ab91-1255-49e9-8f61-6bf21f51e1fc\")>,\n",
       " <selenium.webdriver.remote.webelement.WebElement (session=\"0047931d0a8c59a74d08556e52e2c2f7\", element=\"05619c57-cea7-4085-bbce-8233e3346e41\")>,\n",
       " <selenium.webdriver.remote.webelement.WebElement (session=\"0047931d0a8c59a74d08556e52e2c2f7\", element=\"b86654da-3cdb-4b27-8f36-63fcada906e5\")>,\n",
       " <selenium.webdriver.remote.webelement.WebElement (session=\"0047931d0a8c59a74d08556e52e2c2f7\", element=\"6610b933-94f7-4cca-bc1d-b9175ebb0628\")>,\n",
       " <selenium.webdriver.remote.webelement.WebElement (session=\"0047931d0a8c59a74d08556e52e2c2f7\", element=\"45053780-8ce7-4c89-9383-c2f1a010eb94\")>,\n",
       " <selenium.webdriver.remote.webelement.WebElement (session=\"0047931d0a8c59a74d08556e52e2c2f7\", element=\"58dda6c7-6326-4a0a-a7c9-145bb7faed20\")>,\n",
       " <selenium.webdriver.remote.webelement.WebElement (session=\"0047931d0a8c59a74d08556e52e2c2f7\", element=\"f0c6f873-e59d-462f-9926-01f2bb6a360e\")>,\n",
       " <selenium.webdriver.remote.webelement.WebElement (session=\"0047931d0a8c59a74d08556e52e2c2f7\", element=\"ee78ebf4-295d-4939-985a-95a93b2c4470\")>,\n",
       " <selenium.webdriver.remote.webelement.WebElement (session=\"0047931d0a8c59a74d08556e52e2c2f7\", element=\"8c657f38-1390-4cbf-a7dc-bcbb983b0ce2\")>,\n",
       " <selenium.webdriver.remote.webelement.WebElement (session=\"0047931d0a8c59a74d08556e52e2c2f7\", element=\"0c210f6c-73e9-4c1f-bae6-fef1bf3065fd\")>,\n",
       " <selenium.webdriver.remote.webelement.WebElement (session=\"0047931d0a8c59a74d08556e52e2c2f7\", element=\"5dff0067-d7d5-4b11-b5cc-1f128181b717\")>,\n",
       " <selenium.webdriver.remote.webelement.WebElement (session=\"0047931d0a8c59a74d08556e52e2c2f7\", element=\"50a5423c-f2c8-4c44-bea0-b0602769be3c\")>,\n",
       " <selenium.webdriver.remote.webelement.WebElement (session=\"0047931d0a8c59a74d08556e52e2c2f7\", element=\"5c1cc178-e927-467e-8884-e8732d14b59a\")>,\n",
       " <selenium.webdriver.remote.webelement.WebElement (session=\"0047931d0a8c59a74d08556e52e2c2f7\", element=\"f3e567ad-f973-4165-9779-b4c7d988c76d\")>,\n",
       " <selenium.webdriver.remote.webelement.WebElement (session=\"0047931d0a8c59a74d08556e52e2c2f7\", element=\"9d13cd60-56cc-41d1-8dfa-b8ccf06eaf0a\")>,\n",
       " <selenium.webdriver.remote.webelement.WebElement (session=\"0047931d0a8c59a74d08556e52e2c2f7\", element=\"02eec34e-4166-475a-be2b-f555a7217ff4\")>,\n",
       " <selenium.webdriver.remote.webelement.WebElement (session=\"0047931d0a8c59a74d08556e52e2c2f7\", element=\"3a9aebe0-de03-4c8f-babd-4a39f59ebb07\")>]"
      ]
     },
     "execution_count": 17,
     "metadata": {},
     "output_type": "execute_result"
    }
   ],
   "source": [
    "exp"
   ]
  },
  {
   "cell_type": "code",
   "execution_count": 18,
   "id": "b3978705",
   "metadata": {},
   "outputs": [
    {
     "data": {
      "text/plain": [
       "['7-12 Yrs',\n",
       " '3-5 Yrs',\n",
       " '1-6 Yrs',\n",
       " '9-12 Yrs',\n",
       " '3-8 Yrs',\n",
       " '4-9 Yrs',\n",
       " '3-7 Yrs',\n",
       " '5-10 Yrs',\n",
       " '2-5 Yrs',\n",
       " '3-6 Yrs',\n",
       " '0-2 Yrs',\n",
       " '5-10 Yrs',\n",
       " '6-10 Yrs',\n",
       " '2-4 Yrs',\n",
       " '5-10 Yrs',\n",
       " '4-5 Yrs',\n",
       " '3-8 Yrs',\n",
       " '1-3 Yrs',\n",
       " '5-10 Yrs',\n",
       " '2-5 Yrs']"
      ]
     },
     "execution_count": 18,
     "metadata": {},
     "output_type": "execute_result"
    }
   ],
   "source": [
    "for ele3 in exp:\n",
    "    exp1=ele3.text\n",
    "    experience_requride.append(exp1)\n",
    "experience_requride"
   ]
  },
  {
   "cell_type": "code",
   "execution_count": 19,
   "id": "4500af70",
   "metadata": {},
   "outputs": [
    {
     "name": "stdout",
     "output_type": "stream",
     "text": [
      "20 20 20 20\n"
     ]
    }
   ],
   "source": [
    "print(len(title_of_the_job),len(Name_of_the_company),len(location),len(experience_requride))"
   ]
  },
  {
   "cell_type": "code",
   "execution_count": 20,
   "id": "9037bc94",
   "metadata": {},
   "outputs": [],
   "source": [
    "df=pd.DataFrame({'Title Of Job':title_of_the_job,'Name Of The Company':Name_of_the_company,'Location':location,'Experienceed Requried':experience_requride})"
   ]
  },
  {
   "cell_type": "code",
   "execution_count": 22,
   "id": "c1e069c5",
   "metadata": {},
   "outputs": [
    {
     "data": {
      "text/html": [
       "<div>\n",
       "<style scoped>\n",
       "    .dataframe tbody tr th:only-of-type {\n",
       "        vertical-align: middle;\n",
       "    }\n",
       "\n",
       "    .dataframe tbody tr th {\n",
       "        vertical-align: top;\n",
       "    }\n",
       "\n",
       "    .dataframe thead th {\n",
       "        text-align: right;\n",
       "    }\n",
       "</style>\n",
       "<table border=\"1\" class=\"dataframe\">\n",
       "  <thead>\n",
       "    <tr style=\"text-align: right;\">\n",
       "      <th></th>\n",
       "      <th>Title Of Job</th>\n",
       "      <th>Name Of The Company</th>\n",
       "      <th>Location</th>\n",
       "      <th>Experienceed Requried</th>\n",
       "    </tr>\n",
       "  </thead>\n",
       "  <tbody>\n",
       "    <tr>\n",
       "      <th>0</th>\n",
       "      <td>Business Analyst/ Data Analyst- Capital Market...</td>\n",
       "      <td>Genpact</td>\n",
       "      <td>Pune, Bangalore/Bengaluru</td>\n",
       "      <td>7-12 Yrs</td>\n",
       "    </tr>\n",
       "    <tr>\n",
       "      <th>1</th>\n",
       "      <td>Assistant/deputy Manager - Geo-spatial Data An...</td>\n",
       "      <td>Maruti Suzuki India</td>\n",
       "      <td>Gurgaon/Gurugram, bangalore</td>\n",
       "      <td>3-5 Yrs</td>\n",
       "    </tr>\n",
       "    <tr>\n",
       "      <th>2</th>\n",
       "      <td>Senior Data Analyst</td>\n",
       "      <td>Rapido</td>\n",
       "      <td>Bangalore/Bengaluru</td>\n",
       "      <td>1-6 Yrs</td>\n",
       "    </tr>\n",
       "    <tr>\n",
       "      <th>3</th>\n",
       "      <td>SENIOR ASSOCIATE ENGINEER - SCM - DATA ANALYST</td>\n",
       "      <td>Collins Aerospace</td>\n",
       "      <td>Bangalore/Bengaluru</td>\n",
       "      <td>9-12 Yrs</td>\n",
       "    </tr>\n",
       "    <tr>\n",
       "      <th>4</th>\n",
       "      <td>Data Analyst</td>\n",
       "      <td>GlaxoSmithKline Pharmaceuticals Limited</td>\n",
       "      <td>Bangalore/Bengaluru</td>\n",
       "      <td>3-8 Yrs</td>\n",
       "    </tr>\n",
       "    <tr>\n",
       "      <th>5</th>\n",
       "      <td>Data Analyst / Engineer</td>\n",
       "      <td>Animaker India Private Limited</td>\n",
       "      <td>Chennai, Bangalore/Bengaluru</td>\n",
       "      <td>4-9 Yrs</td>\n",
       "    </tr>\n",
       "    <tr>\n",
       "      <th>6</th>\n",
       "      <td>Senior Data Analyst</td>\n",
       "      <td>Flipkart</td>\n",
       "      <td>Bangalore/Bengaluru</td>\n",
       "      <td>3-7 Yrs</td>\n",
       "    </tr>\n",
       "    <tr>\n",
       "      <th>7</th>\n",
       "      <td>Senior Data Analyst for HANA Platform</td>\n",
       "      <td>Intel</td>\n",
       "      <td>Bangalore/Bengaluru</td>\n",
       "      <td>5-10 Yrs</td>\n",
       "    </tr>\n",
       "    <tr>\n",
       "      <th>8</th>\n",
       "      <td>Data Analyst</td>\n",
       "      <td>NetraDyne Technology India Private Limited</td>\n",
       "      <td>Bangalore/Bengaluru</td>\n",
       "      <td>2-5 Yrs</td>\n",
       "    </tr>\n",
       "    <tr>\n",
       "      <th>9</th>\n",
       "      <td>Supervisor Role, Data Analyst, six sigma, Anal...</td>\n",
       "      <td>Concentrix Daksh Services</td>\n",
       "      <td>Bangalore/Bengaluru</td>\n",
       "      <td>3-6 Yrs</td>\n",
       "    </tr>\n",
       "  </tbody>\n",
       "</table>\n",
       "</div>"
      ],
      "text/plain": [
       "                                        Title Of Job  \\\n",
       "0  Business Analyst/ Data Analyst- Capital Market...   \n",
       "1  Assistant/deputy Manager - Geo-spatial Data An...   \n",
       "2                                Senior Data Analyst   \n",
       "3     SENIOR ASSOCIATE ENGINEER - SCM - DATA ANALYST   \n",
       "4                                       Data Analyst   \n",
       "5                            Data Analyst / Engineer   \n",
       "6                                Senior Data Analyst   \n",
       "7              Senior Data Analyst for HANA Platform   \n",
       "8                                       Data Analyst   \n",
       "9  Supervisor Role, Data Analyst, six sigma, Anal...   \n",
       "\n",
       "                          Name Of The Company                      Location  \\\n",
       "0                                     Genpact     Pune, Bangalore/Bengaluru   \n",
       "1                         Maruti Suzuki India   Gurgaon/Gurugram, bangalore   \n",
       "2                                      Rapido           Bangalore/Bengaluru   \n",
       "3                           Collins Aerospace           Bangalore/Bengaluru   \n",
       "4     GlaxoSmithKline Pharmaceuticals Limited           Bangalore/Bengaluru   \n",
       "5              Animaker India Private Limited  Chennai, Bangalore/Bengaluru   \n",
       "6                                    Flipkart           Bangalore/Bengaluru   \n",
       "7                                       Intel           Bangalore/Bengaluru   \n",
       "8  NetraDyne Technology India Private Limited           Bangalore/Bengaluru   \n",
       "9                   Concentrix Daksh Services           Bangalore/Bengaluru   \n",
       "\n",
       "  Experienceed Requried  \n",
       "0              7-12 Yrs  \n",
       "1               3-5 Yrs  \n",
       "2               1-6 Yrs  \n",
       "3              9-12 Yrs  \n",
       "4               3-8 Yrs  \n",
       "5               4-9 Yrs  \n",
       "6               3-7 Yrs  \n",
       "7              5-10 Yrs  \n",
       "8               2-5 Yrs  \n",
       "9               3-6 Yrs  "
      ]
     },
     "execution_count": 22,
     "metadata": {},
     "output_type": "execute_result"
    }
   ],
   "source": [
    "df.head(10)"
   ]
  },
  {
   "cell_type": "markdown",
   "id": "c15ae210",
   "metadata": {},
   "source": [
    "# ---------------------------------------------------------------------------------------------------------------"
   ]
  },
  {
   "cell_type": "markdown",
   "id": "b82a9205",
   "metadata": {},
   "source": [
    "# Q2: Write a python program to scrape data for “Data Scientist” Job position in “Bangalore” location. You have to scrape the job-title, job-location, company_name. You have to scrape first 10 jobs data. This task will be done in following steps:"
   ]
  },
  {
   "cell_type": "code",
   "execution_count": 23,
   "id": "d737d9e3",
   "metadata": {},
   "outputs": [],
   "source": [
    "import selenium\n",
    "import pandas as pd\n",
    "from selenium import webdriver"
   ]
  },
  {
   "cell_type": "code",
   "execution_count": 24,
   "id": "b67b261b",
   "metadata": {},
   "outputs": [
    {
     "name": "stderr",
     "output_type": "stream",
     "text": [
      "<ipython-input-24-d11edd1e4dd0>:1: DeprecationWarning: executable_path has been deprecated, please pass in a Service object\n",
      "  driver1=webdriver.Edge(executable_path=\"C:\\\\Users\\\\AT SYSTEM\\Desktop\\\\edgedriver_win32 (3)\\\\msedgedriver.exe\")\n"
     ]
    }
   ],
   "source": [
    "driver1=webdriver.Edge(executable_path=\"C:\\\\Users\\\\AT SYSTEM\\Desktop\\\\edgedriver_win32 (3)\\\\msedgedriver.exe\")"
   ]
  },
  {
   "cell_type": "code",
   "execution_count": 25,
   "id": "ab530f26",
   "metadata": {},
   "outputs": [],
   "source": [
    "driver1.get(\"https://www.naukri.com\")"
   ]
  },
  {
   "cell_type": "code",
   "execution_count": 30,
   "id": "2fd4618f",
   "metadata": {},
   "outputs": [
    {
     "name": "stderr",
     "output_type": "stream",
     "text": [
      "<ipython-input-30-88ceea24055f>:1: DeprecationWarning: find_element_by_* commands are deprecated. Please use find_element() instead\n",
      "  job_t=driver1.find_element_by_id(\"qsb-keyword-sugg\")\n",
      "<ipython-input-30-88ceea24055f>:3: DeprecationWarning: find_element_by_* commands are deprecated. Please use find_element() instead\n",
      "  job_l=driver1.find_element_by_xpath(\"//input[@id='qsb-location-sugg']\")\n"
     ]
    }
   ],
   "source": [
    "job_t=driver1.find_element_by_id(\"qsb-keyword-sugg\")\n",
    "job_t.send_keys(\"Data Scientist\")\n",
    "job_l=driver1.find_element_by_xpath(\"//input[@id='qsb-location-sugg']\")\n",
    "job_l.send_keys('Bangalore')"
   ]
  },
  {
   "cell_type": "code",
   "execution_count": 31,
   "id": "fb625891",
   "metadata": {},
   "outputs": [
    {
     "name": "stderr",
     "output_type": "stream",
     "text": [
      "<ipython-input-31-6fdafbdf777b>:1: DeprecationWarning: find_element_by_* commands are deprecated. Please use find_element() instead\n",
      "  btn=driver1.find_element_by_xpath(\"//div[@class='search-btn']/button\")\n"
     ]
    }
   ],
   "source": [
    "btn=driver1.find_element_by_xpath(\"//div[@class='search-btn']/button\")\n",
    "btn.click()"
   ]
  },
  {
   "cell_type": "code",
   "execution_count": 59,
   "id": "35b70430",
   "metadata": {},
   "outputs": [],
   "source": [
    "jobtn=[]\n",
    "jobc=[]\n",
    "jobl=[]\n",
    "jobe=[]"
   ]
  },
  {
   "cell_type": "code",
   "execution_count": 57,
   "id": "b5ef84f3",
   "metadata": {},
   "outputs": [
    {
     "name": "stderr",
     "output_type": "stream",
     "text": [
      "<ipython-input-57-d53138ae51f4>:1: DeprecationWarning: find_elements_by_* commands are deprecated. Please use find_elements() instead\n",
      "  jt1=driver1.find_elements_by_xpath(\"//a[@class='title fw500 ellipsis']\")\n"
     ]
    }
   ],
   "source": [
    "jt1=driver1.find_elements_by_xpath(\"//a[@class='title fw500 ellipsis']\")"
   ]
  },
  {
   "cell_type": "code",
   "execution_count": 58,
   "id": "fc066e04",
   "metadata": {},
   "outputs": [
    {
     "data": {
      "text/plain": [
       "[<selenium.webdriver.remote.webelement.WebElement (session=\"45815b3e333abbd6791ea58193af6256\", element=\"413da809-dbb4-404f-875e-d649dfeae916\")>,\n",
       " <selenium.webdriver.remote.webelement.WebElement (session=\"45815b3e333abbd6791ea58193af6256\", element=\"732fc73d-c222-4576-bd19-f4d355d92aa2\")>,\n",
       " <selenium.webdriver.remote.webelement.WebElement (session=\"45815b3e333abbd6791ea58193af6256\", element=\"8ffaef45-c9f3-4bfa-81b4-ab3533df5b2d\")>,\n",
       " <selenium.webdriver.remote.webelement.WebElement (session=\"45815b3e333abbd6791ea58193af6256\", element=\"d518a807-2c43-4ac3-9d55-2f51d1f8c0f2\")>,\n",
       " <selenium.webdriver.remote.webelement.WebElement (session=\"45815b3e333abbd6791ea58193af6256\", element=\"a6888c7d-0025-4209-8d0c-a65a9849ceb5\")>,\n",
       " <selenium.webdriver.remote.webelement.WebElement (session=\"45815b3e333abbd6791ea58193af6256\", element=\"cc005ec6-add1-462e-b85f-01193e22ca7c\")>,\n",
       " <selenium.webdriver.remote.webelement.WebElement (session=\"45815b3e333abbd6791ea58193af6256\", element=\"2cd9a297-90ce-42b9-827d-c4789608a1d2\")>,\n",
       " <selenium.webdriver.remote.webelement.WebElement (session=\"45815b3e333abbd6791ea58193af6256\", element=\"621fe91d-fe5b-48d1-b4ce-84a9f2673328\")>,\n",
       " <selenium.webdriver.remote.webelement.WebElement (session=\"45815b3e333abbd6791ea58193af6256\", element=\"3a50f998-3948-47f9-8724-be52d820d87e\")>,\n",
       " <selenium.webdriver.remote.webelement.WebElement (session=\"45815b3e333abbd6791ea58193af6256\", element=\"b05cd10f-6726-431e-b6ee-301b244ea2f2\")>,\n",
       " <selenium.webdriver.remote.webelement.WebElement (session=\"45815b3e333abbd6791ea58193af6256\", element=\"7dd5ed87-8f75-4359-9d90-ab8284d6b22e\")>,\n",
       " <selenium.webdriver.remote.webelement.WebElement (session=\"45815b3e333abbd6791ea58193af6256\", element=\"95a525ac-bbd7-4d77-83e1-3c6601294ce3\")>,\n",
       " <selenium.webdriver.remote.webelement.WebElement (session=\"45815b3e333abbd6791ea58193af6256\", element=\"87e2c713-c9d0-47ad-9ca1-4a78e775ef05\")>,\n",
       " <selenium.webdriver.remote.webelement.WebElement (session=\"45815b3e333abbd6791ea58193af6256\", element=\"71399480-3455-4854-abd3-9d581e2a26f8\")>,\n",
       " <selenium.webdriver.remote.webelement.WebElement (session=\"45815b3e333abbd6791ea58193af6256\", element=\"dcd48789-da8e-4162-b088-85e08f09f973\")>,\n",
       " <selenium.webdriver.remote.webelement.WebElement (session=\"45815b3e333abbd6791ea58193af6256\", element=\"36c36eb6-62ef-407b-bca8-ce50083991fc\")>,\n",
       " <selenium.webdriver.remote.webelement.WebElement (session=\"45815b3e333abbd6791ea58193af6256\", element=\"78b83f66-df89-4e3f-9592-322cc9f1eed7\")>,\n",
       " <selenium.webdriver.remote.webelement.WebElement (session=\"45815b3e333abbd6791ea58193af6256\", element=\"f9185638-fe38-4172-b4d8-0efc0d99fcb4\")>,\n",
       " <selenium.webdriver.remote.webelement.WebElement (session=\"45815b3e333abbd6791ea58193af6256\", element=\"577d5af6-d5e6-4be2-b20f-579e0ab1aa38\")>,\n",
       " <selenium.webdriver.remote.webelement.WebElement (session=\"45815b3e333abbd6791ea58193af6256\", element=\"d92599a8-9e20-464a-b7df-f3c289876f0b\")>]"
      ]
     },
     "execution_count": 58,
     "metadata": {},
     "output_type": "execute_result"
    }
   ],
   "source": [
    "jt1"
   ]
  },
  {
   "cell_type": "code",
   "execution_count": 61,
   "id": "b997b471",
   "metadata": {},
   "outputs": [],
   "source": [
    "for i4 in jt1:\n",
    "    t5=i4.text\n",
    "    jobtn.append(t5)"
   ]
  },
  {
   "cell_type": "code",
   "execution_count": 62,
   "id": "37a5f19b",
   "metadata": {},
   "outputs": [
    {
     "data": {
      "text/plain": [
       "['Senior Data Scientist',\n",
       " 'Sr. Associate Consultant Data Scientist',\n",
       " 'Data Scientist: Advanced Analytics',\n",
       " 'Data Scientist: Advanced Analytics',\n",
       " 'Cognitive Data Scientist',\n",
       " 'Senior Engineer - AIML - Data Scientist',\n",
       " 'Senior data scientist',\n",
       " 'Cognitive/AI Senior Data Scientist',\n",
       " 'Lead/Senior Data Scientist (NLP)',\n",
       " 'Data Scientist',\n",
       " 'Data Scientist',\n",
       " 'Healthcare Data Scientist',\n",
       " 'Tcs Hiring For Azure ML Data Scientist',\n",
       " 'Senior Data Scientist',\n",
       " 'Sr. Data Scientist - Medical /Marketing Analytics',\n",
       " 'Data Scientist: Artificial Intelligence',\n",
       " 'Data Scientist',\n",
       " 'Data Scientist: Artificial Intelligence',\n",
       " 'NLP Data scientist',\n",
       " 'Lead Data Scientist : ML,Python']"
      ]
     },
     "execution_count": 62,
     "metadata": {},
     "output_type": "execute_result"
    }
   ],
   "source": [
    "jobtn"
   ]
  },
  {
   "cell_type": "code",
   "execution_count": 64,
   "id": "992b1249",
   "metadata": {},
   "outputs": [
    {
     "name": "stderr",
     "output_type": "stream",
     "text": [
      "<ipython-input-64-36d89d2a12c7>:1: DeprecationWarning: find_elements_by_* commands are deprecated. Please use find_elements() instead\n",
      "  jc=driver1.find_elements_by_xpath(\"//a[@class='subTitle ellipsis fleft']\")\n"
     ]
    }
   ],
   "source": [
    "jc=driver1.find_elements_by_xpath(\"//a[@class='subTitle ellipsis fleft']\")"
   ]
  },
  {
   "cell_type": "code",
   "execution_count": 65,
   "id": "4cf237bc",
   "metadata": {},
   "outputs": [
    {
     "data": {
      "text/plain": [
       "[<selenium.webdriver.remote.webelement.WebElement (session=\"45815b3e333abbd6791ea58193af6256\", element=\"09569b6e-73e6-46c6-a47f-46e502dcc132\")>,\n",
       " <selenium.webdriver.remote.webelement.WebElement (session=\"45815b3e333abbd6791ea58193af6256\", element=\"4ad0471d-a72b-452f-8bed-34c570901348\")>,\n",
       " <selenium.webdriver.remote.webelement.WebElement (session=\"45815b3e333abbd6791ea58193af6256\", element=\"c9a7159b-b607-4dcf-bf7f-31adbf9d6791\")>,\n",
       " <selenium.webdriver.remote.webelement.WebElement (session=\"45815b3e333abbd6791ea58193af6256\", element=\"927a2836-9946-45ba-beeb-ea19475f2289\")>,\n",
       " <selenium.webdriver.remote.webelement.WebElement (session=\"45815b3e333abbd6791ea58193af6256\", element=\"b50fa268-cc55-4a16-9129-5847ad2ff330\")>,\n",
       " <selenium.webdriver.remote.webelement.WebElement (session=\"45815b3e333abbd6791ea58193af6256\", element=\"4b2b136d-e608-435c-912c-8044e41536fd\")>,\n",
       " <selenium.webdriver.remote.webelement.WebElement (session=\"45815b3e333abbd6791ea58193af6256\", element=\"4c9563ae-e58d-49d2-8fce-c945c53e6e28\")>,\n",
       " <selenium.webdriver.remote.webelement.WebElement (session=\"45815b3e333abbd6791ea58193af6256\", element=\"30217e6a-148d-4ea5-a0ea-e8bfae8055f0\")>,\n",
       " <selenium.webdriver.remote.webelement.WebElement (session=\"45815b3e333abbd6791ea58193af6256\", element=\"f0db3536-4d13-479f-809d-2a7b1f4e036b\")>,\n",
       " <selenium.webdriver.remote.webelement.WebElement (session=\"45815b3e333abbd6791ea58193af6256\", element=\"f44e1a19-c7a9-4894-86b7-d908d2a4b52d\")>,\n",
       " <selenium.webdriver.remote.webelement.WebElement (session=\"45815b3e333abbd6791ea58193af6256\", element=\"8dc6be5b-e6eb-4310-8732-223d00029686\")>,\n",
       " <selenium.webdriver.remote.webelement.WebElement (session=\"45815b3e333abbd6791ea58193af6256\", element=\"3de67eb5-8150-443d-8d9d-bb245d48a461\")>,\n",
       " <selenium.webdriver.remote.webelement.WebElement (session=\"45815b3e333abbd6791ea58193af6256\", element=\"da4cd8cb-0298-45a3-8741-a35cd00c32a3\")>,\n",
       " <selenium.webdriver.remote.webelement.WebElement (session=\"45815b3e333abbd6791ea58193af6256\", element=\"52bbd5a8-fddf-4d40-a525-208cdc158567\")>,\n",
       " <selenium.webdriver.remote.webelement.WebElement (session=\"45815b3e333abbd6791ea58193af6256\", element=\"61f0f3c0-7b12-4951-84bf-00572b7b113f\")>,\n",
       " <selenium.webdriver.remote.webelement.WebElement (session=\"45815b3e333abbd6791ea58193af6256\", element=\"3a3b2b1f-965a-4481-bc38-860c136aff62\")>,\n",
       " <selenium.webdriver.remote.webelement.WebElement (session=\"45815b3e333abbd6791ea58193af6256\", element=\"56d75bf9-ee58-41e1-91d0-cbfe47a16a9f\")>,\n",
       " <selenium.webdriver.remote.webelement.WebElement (session=\"45815b3e333abbd6791ea58193af6256\", element=\"77c58271-8a37-446a-bc15-1b86d96f01f4\")>,\n",
       " <selenium.webdriver.remote.webelement.WebElement (session=\"45815b3e333abbd6791ea58193af6256\", element=\"2f9d4077-8550-4fed-b39a-10947271fc99\")>,\n",
       " <selenium.webdriver.remote.webelement.WebElement (session=\"45815b3e333abbd6791ea58193af6256\", element=\"d7610d93-2a16-4961-8443-4856fa185564\")>]"
      ]
     },
     "execution_count": 65,
     "metadata": {},
     "output_type": "execute_result"
    }
   ],
   "source": [
    "jc"
   ]
  },
  {
   "cell_type": "code",
   "execution_count": 66,
   "id": "7f28625c",
   "metadata": {},
   "outputs": [],
   "source": [
    "for i2 in jc:\n",
    "    t2=i2.text\n",
    "    jobc.append(t2)"
   ]
  },
  {
   "cell_type": "code",
   "execution_count": 67,
   "id": "b98dbbe0",
   "metadata": {},
   "outputs": [
    {
     "data": {
      "text/plain": [
       "['Visa',\n",
       " 'Eli Lilly and Company',\n",
       " 'IBM India Pvt. Limited',\n",
       " 'IBM India Pvt. Limited',\n",
       " 'IBM India Pvt. Limited',\n",
       " 'Unisys',\n",
       " 'Compile Inc',\n",
       " 'IBM India Pvt. Limited',\n",
       " 'Samya.AI A FRACTAL Entity',\n",
       " 'Tata Unistore',\n",
       " 'Tarento Technologies Pvt Ltd',\n",
       " 'Accumed Practice Management DMCC',\n",
       " 'Tata Consultancy Services Ltd.',\n",
       " 'Idexcel Technologies Private Limited',\n",
       " 'Valuable Consulting',\n",
       " 'IBM India Pvt. Limited',\n",
       " 'Uber',\n",
       " 'IBM India Pvt. Limited',\n",
       " 'TIGI HR Solution',\n",
       " 'Evoke HR Solutions Pvt. Ltd.']"
      ]
     },
     "execution_count": 67,
     "metadata": {},
     "output_type": "execute_result"
    }
   ],
   "source": [
    "jobc"
   ]
  },
  {
   "cell_type": "code",
   "execution_count": 68,
   "id": "2f74604a",
   "metadata": {},
   "outputs": [
    {
     "name": "stderr",
     "output_type": "stream",
     "text": [
      "<ipython-input-68-97280277eb39>:1: DeprecationWarning: find_elements_by_* commands are deprecated. Please use find_elements() instead\n",
      "  jloc=driver1.find_elements_by_xpath(\"//li[@class='fleft grey-text br2 placeHolderLi location']/span[1]\")\n"
     ]
    }
   ],
   "source": [
    "jloc=driver1.find_elements_by_xpath(\"//li[@class='fleft grey-text br2 placeHolderLi location']/span[1]\")"
   ]
  },
  {
   "cell_type": "code",
   "execution_count": 69,
   "id": "3cb0b886",
   "metadata": {},
   "outputs": [
    {
     "data": {
      "text/plain": [
       "[<selenium.webdriver.remote.webelement.WebElement (session=\"45815b3e333abbd6791ea58193af6256\", element=\"c76c27e1-49d1-4a80-b77b-4e911c2a8b66\")>,\n",
       " <selenium.webdriver.remote.webelement.WebElement (session=\"45815b3e333abbd6791ea58193af6256\", element=\"8b82b573-b563-4d7a-8410-e8f2dcb2e03c\")>,\n",
       " <selenium.webdriver.remote.webelement.WebElement (session=\"45815b3e333abbd6791ea58193af6256\", element=\"7c8ddba2-ed77-40eb-a3b9-435570e73528\")>,\n",
       " <selenium.webdriver.remote.webelement.WebElement (session=\"45815b3e333abbd6791ea58193af6256\", element=\"63dbd8e6-2202-4989-9754-49ed19be341b\")>,\n",
       " <selenium.webdriver.remote.webelement.WebElement (session=\"45815b3e333abbd6791ea58193af6256\", element=\"07496b68-6b81-4664-aa14-a8328ad56e82\")>,\n",
       " <selenium.webdriver.remote.webelement.WebElement (session=\"45815b3e333abbd6791ea58193af6256\", element=\"c2c62db9-cc57-4fec-8f75-06fec4015a80\")>,\n",
       " <selenium.webdriver.remote.webelement.WebElement (session=\"45815b3e333abbd6791ea58193af6256\", element=\"d081e1a9-cbc6-4c5e-8277-8f33ed915138\")>,\n",
       " <selenium.webdriver.remote.webelement.WebElement (session=\"45815b3e333abbd6791ea58193af6256\", element=\"be061d0e-d070-4867-be5d-e3ed44215878\")>,\n",
       " <selenium.webdriver.remote.webelement.WebElement (session=\"45815b3e333abbd6791ea58193af6256\", element=\"842fcc38-15d8-4cc1-a54e-658ef5f63e0a\")>,\n",
       " <selenium.webdriver.remote.webelement.WebElement (session=\"45815b3e333abbd6791ea58193af6256\", element=\"a53f74e9-538a-4bc2-b2aa-e50ed84e4ab6\")>,\n",
       " <selenium.webdriver.remote.webelement.WebElement (session=\"45815b3e333abbd6791ea58193af6256\", element=\"28c1e5fe-f7df-4dc3-8096-be7f403939ee\")>,\n",
       " <selenium.webdriver.remote.webelement.WebElement (session=\"45815b3e333abbd6791ea58193af6256\", element=\"121fb437-5340-440d-aa94-09f9296a1efa\")>,\n",
       " <selenium.webdriver.remote.webelement.WebElement (session=\"45815b3e333abbd6791ea58193af6256\", element=\"9b904841-fe02-4717-b2b5-d96a7fbfef71\")>,\n",
       " <selenium.webdriver.remote.webelement.WebElement (session=\"45815b3e333abbd6791ea58193af6256\", element=\"6bbc1e4f-0204-4b5a-afc6-b6c65bdb1c6f\")>,\n",
       " <selenium.webdriver.remote.webelement.WebElement (session=\"45815b3e333abbd6791ea58193af6256\", element=\"11d72980-0081-4780-8be7-9ac927aeb990\")>,\n",
       " <selenium.webdriver.remote.webelement.WebElement (session=\"45815b3e333abbd6791ea58193af6256\", element=\"20032b62-6cca-4a23-965c-77e953fa4c99\")>,\n",
       " <selenium.webdriver.remote.webelement.WebElement (session=\"45815b3e333abbd6791ea58193af6256\", element=\"66bc8c7d-1687-4a0d-b429-37fca4247d38\")>,\n",
       " <selenium.webdriver.remote.webelement.WebElement (session=\"45815b3e333abbd6791ea58193af6256\", element=\"cf50b8d1-1e15-4325-829b-0d3216116c53\")>,\n",
       " <selenium.webdriver.remote.webelement.WebElement (session=\"45815b3e333abbd6791ea58193af6256\", element=\"a10593cb-76bd-4953-9e6e-d9cd8dd5a6f8\")>,\n",
       " <selenium.webdriver.remote.webelement.WebElement (session=\"45815b3e333abbd6791ea58193af6256\", element=\"f7b0d37c-7456-4f64-b6a5-54fd0628d5fc\")>]"
      ]
     },
     "execution_count": 69,
     "metadata": {},
     "output_type": "execute_result"
    }
   ],
   "source": [
    "jloc"
   ]
  },
  {
   "cell_type": "code",
   "execution_count": 70,
   "id": "813e06c2",
   "metadata": {},
   "outputs": [],
   "source": [
    "for i3 in jloc:\n",
    "    t3=i3.text\n",
    "    jobl.append(t3)"
   ]
  },
  {
   "cell_type": "code",
   "execution_count": 71,
   "id": "8b4eb761",
   "metadata": {},
   "outputs": [
    {
     "data": {
      "text/plain": [
       "['Bangalore/Bengaluru',\n",
       " 'Bangalore/Bengaluru',\n",
       " 'Bengaluru/Bangalore',\n",
       " 'Bangalore/Bengaluru',\n",
       " 'Bangalore/Bengaluru',\n",
       " 'Bangalore/Bengaluru',\n",
       " 'Bangalore/Bengaluru',\n",
       " 'Bengaluru/Bangalore',\n",
       " 'Bangalore/Bengaluru',\n",
       " 'Mumbai, Bangalore/Bengaluru',\n",
       " 'Bangalore/Bengaluru',\n",
       " 'Chennai, Bangalore/Bengaluru',\n",
       " 'Hyderabad/Secunderabad, Bangalore/Bengaluru, Mumbai (All Areas)',\n",
       " 'Bangalore/Bengaluru',\n",
       " 'Bangalore/Bengaluru',\n",
       " 'Bangalore/Bengaluru',\n",
       " 'Bangalore/Bengaluru',\n",
       " 'Bangalore/Bengaluru',\n",
       " 'Hyderabad/Secunderabad, Chennai, Bangalore/Bengaluru',\n",
       " 'Pune, Chennai, Bangalore/Bengaluru, Mumbai (All Areas)']"
      ]
     },
     "execution_count": 71,
     "metadata": {},
     "output_type": "execute_result"
    }
   ],
   "source": [
    "jobl"
   ]
  },
  {
   "cell_type": "code",
   "execution_count": 72,
   "id": "18bb60a9",
   "metadata": {},
   "outputs": [
    {
     "name": "stdout",
     "output_type": "stream",
     "text": [
      "20 20 20\n"
     ]
    }
   ],
   "source": [
    "print(len(jobtn),len(jobl),len(jobc))"
   ]
  },
  {
   "cell_type": "code",
   "execution_count": 74,
   "id": "31a3bfa4",
   "metadata": {},
   "outputs": [],
   "source": [
    "df1=pd.DataFrame({'Job Title':jobtn,'Job Loc':jobl,'Company Nmae':jobc})"
   ]
  },
  {
   "cell_type": "code",
   "execution_count": 76,
   "id": "88340e00",
   "metadata": {},
   "outputs": [
    {
     "data": {
      "text/html": [
       "<div>\n",
       "<style scoped>\n",
       "    .dataframe tbody tr th:only-of-type {\n",
       "        vertical-align: middle;\n",
       "    }\n",
       "\n",
       "    .dataframe tbody tr th {\n",
       "        vertical-align: top;\n",
       "    }\n",
       "\n",
       "    .dataframe thead th {\n",
       "        text-align: right;\n",
       "    }\n",
       "</style>\n",
       "<table border=\"1\" class=\"dataframe\">\n",
       "  <thead>\n",
       "    <tr style=\"text-align: right;\">\n",
       "      <th></th>\n",
       "      <th>Job Title</th>\n",
       "      <th>Job Loc</th>\n",
       "      <th>Company Nmae</th>\n",
       "    </tr>\n",
       "  </thead>\n",
       "  <tbody>\n",
       "    <tr>\n",
       "      <th>0</th>\n",
       "      <td>Senior Data Scientist</td>\n",
       "      <td>Bangalore/Bengaluru</td>\n",
       "      <td>Visa</td>\n",
       "    </tr>\n",
       "    <tr>\n",
       "      <th>1</th>\n",
       "      <td>Sr. Associate Consultant Data Scientist</td>\n",
       "      <td>Bangalore/Bengaluru</td>\n",
       "      <td>Eli Lilly and Company</td>\n",
       "    </tr>\n",
       "    <tr>\n",
       "      <th>2</th>\n",
       "      <td>Data Scientist: Advanced Analytics</td>\n",
       "      <td>Bengaluru/Bangalore</td>\n",
       "      <td>IBM India Pvt. Limited</td>\n",
       "    </tr>\n",
       "    <tr>\n",
       "      <th>3</th>\n",
       "      <td>Data Scientist: Advanced Analytics</td>\n",
       "      <td>Bangalore/Bengaluru</td>\n",
       "      <td>IBM India Pvt. Limited</td>\n",
       "    </tr>\n",
       "    <tr>\n",
       "      <th>4</th>\n",
       "      <td>Cognitive Data Scientist</td>\n",
       "      <td>Bangalore/Bengaluru</td>\n",
       "      <td>IBM India Pvt. Limited</td>\n",
       "    </tr>\n",
       "    <tr>\n",
       "      <th>5</th>\n",
       "      <td>Senior Engineer - AIML - Data Scientist</td>\n",
       "      <td>Bangalore/Bengaluru</td>\n",
       "      <td>Unisys</td>\n",
       "    </tr>\n",
       "    <tr>\n",
       "      <th>6</th>\n",
       "      <td>Senior data scientist</td>\n",
       "      <td>Bangalore/Bengaluru</td>\n",
       "      <td>Compile Inc</td>\n",
       "    </tr>\n",
       "    <tr>\n",
       "      <th>7</th>\n",
       "      <td>Cognitive/AI Senior Data Scientist</td>\n",
       "      <td>Bengaluru/Bangalore</td>\n",
       "      <td>IBM India Pvt. Limited</td>\n",
       "    </tr>\n",
       "    <tr>\n",
       "      <th>8</th>\n",
       "      <td>Lead/Senior Data Scientist (NLP)</td>\n",
       "      <td>Bangalore/Bengaluru</td>\n",
       "      <td>Samya.AI A FRACTAL Entity</td>\n",
       "    </tr>\n",
       "    <tr>\n",
       "      <th>9</th>\n",
       "      <td>Data Scientist</td>\n",
       "      <td>Mumbai, Bangalore/Bengaluru</td>\n",
       "      <td>Tata Unistore</td>\n",
       "    </tr>\n",
       "  </tbody>\n",
       "</table>\n",
       "</div>"
      ],
      "text/plain": [
       "                                 Job Title                      Job Loc  \\\n",
       "0                    Senior Data Scientist          Bangalore/Bengaluru   \n",
       "1  Sr. Associate Consultant Data Scientist          Bangalore/Bengaluru   \n",
       "2       Data Scientist: Advanced Analytics          Bengaluru/Bangalore   \n",
       "3       Data Scientist: Advanced Analytics          Bangalore/Bengaluru   \n",
       "4                 Cognitive Data Scientist          Bangalore/Bengaluru   \n",
       "5  Senior Engineer - AIML - Data Scientist          Bangalore/Bengaluru   \n",
       "6                    Senior data scientist          Bangalore/Bengaluru   \n",
       "7       Cognitive/AI Senior Data Scientist          Bengaluru/Bangalore   \n",
       "8         Lead/Senior Data Scientist (NLP)          Bangalore/Bengaluru   \n",
       "9                           Data Scientist  Mumbai, Bangalore/Bengaluru   \n",
       "\n",
       "                Company Nmae  \n",
       "0                       Visa  \n",
       "1      Eli Lilly and Company  \n",
       "2     IBM India Pvt. Limited  \n",
       "3     IBM India Pvt. Limited  \n",
       "4     IBM India Pvt. Limited  \n",
       "5                     Unisys  \n",
       "6                Compile Inc  \n",
       "7     IBM India Pvt. Limited  \n",
       "8  Samya.AI A FRACTAL Entity  \n",
       "9              Tata Unistore  "
      ]
     },
     "execution_count": 76,
     "metadata": {},
     "output_type": "execute_result"
    }
   ],
   "source": [
    "df1.head(10)"
   ]
  },
  {
   "cell_type": "code",
   "execution_count": null,
   "id": "cf8b9a59",
   "metadata": {},
   "outputs": [],
   "source": []
  }
 ],
 "metadata": {
  "kernelspec": {
   "display_name": "Python 3",
   "language": "python",
   "name": "python3"
  },
  "language_info": {
   "codemirror_mode": {
    "name": "ipython",
    "version": 3
   },
   "file_extension": ".py",
   "mimetype": "text/x-python",
   "name": "python",
   "nbconvert_exporter": "python",
   "pygments_lexer": "ipython3",
   "version": "3.8.8"
  }
 },
 "nbformat": 4,
 "nbformat_minor": 5
}
